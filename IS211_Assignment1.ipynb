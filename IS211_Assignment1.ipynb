{
 "cells": [
  {
   "cell_type": "code",
   "execution_count": 1,
   "metadata": {},
   "outputs": [],
   "source": [
    "#Gabriel Santos IS211\n",
    "\"\"\"Assignment 1 part 1\"\"\"\n",
    "\n",
    "\n",
    "def listDivide(numbers=None, divide=2):\n",
    "    \"\"\"Create a function named listDivide that takes in two parameters.\n",
    "    One parameter is a list called numbers. The second parameter is an integer\n",
    "    called divide. The divide parameter should have a default value of 2.\n",
    "    The function returns the number of elements in the numbers list that\n",
    "    are divisible by divide.\"\"\"\n",
    "\n",
    "    if numbers is None:\n",
    "        numbers = []\n",
    "\n",
    "    even = list()\n",
    "\n",
    "    for i in numbers:\n",
    "        if i % divide == 0:\n",
    "            even.append(i)\n",
    "    return even\n",
    "\n",
    "\n",
    "class ListDivideException(Exception):\n",
    "    \"\"\"Create a custom exception class called ‘ListDivideException’.\n",
    "    This should be two lines of Python code.\"\"\"\n",
    "    pass\n",
    "\n",
    "\n",
    "def testListDivide(listDivide):\n",
    "    \"\"\"Write another function called testListDivide that performs the following\n",
    "    tests on listDivide:\n",
    "    a. listDivide([1,2,3,4,5]) should return 2\n",
    "    b. listDivide([2,4,6,8,10]) should return 5\n",
    "    c. listDivide([30, 54, 63,98, 100], divide=10) should return 2\n",
    "    d. listDivide([]) should return 0\n",
    "    e. listDivide([1,2,3,4,5], 1) should return 5\n",
    "    The function testListDivide does not return anything. However,\n",
    "    if any of the tests fail, the function should raise the\n",
    "    ListDivideException.\"\"\"\n",
    "\n",
    "    tests = [([1, 2, 3, 4, 5], 2, 2), ([2, 4, 6, 8, 10], 2, 5),\n",
    "             ([30, 54, 63, 98, 100], 10, 2), ([], 2, 0),\n",
    "             ([1, 2, 3, 4, 5], 1, 5)]\n",
    "    for i in tests:\n",
    "        if listDivide(i[0], i[1]) != i[2]:\n",
    "            raise ListDivideException(\"Something wicked this way comes\")\n",
    "\n",
    "\n",
    "if __name__ == 'main':\n",
    "    testListDivide()"
   ]
  }
 ],
 "metadata": {
  "kernelspec": {
   "display_name": "Python 3",
   "language": "python",
   "name": "python3"
  },
  "language_info": {
   "codemirror_mode": {
    "name": "ipython",
    "version": 3
   },
   "file_extension": ".py",
   "mimetype": "text/x-python",
   "name": "python",
   "nbconvert_exporter": "python",
   "pygments_lexer": "ipython3",
   "version": "3.8.3"
  }
 },
 "nbformat": 4,
 "nbformat_minor": 4
}
